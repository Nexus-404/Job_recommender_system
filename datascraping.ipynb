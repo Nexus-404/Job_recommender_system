{
  "nbformat": 4,
  "nbformat_minor": 0,
  "metadata": {
    "colab": {
      "name": "Indeed",
      "provenance": [],
      "collapsed_sections": []
    },
    "kernelspec": {
      "name": "python3",
      "display_name": "Python 3"
    }
  },
  "cells": [
    {
      "cell_type": "code",
      "metadata": {
        "id": "GuNOvyDPsT7w"
      },
      "source": [
        "#import stuff\n",
        "from bs4 import BeautifulSoup\n",
        "import requests\n",
        "import pandas as pd\n",
        "import urllib\n",
        "import re\n",
        "from urllib.request import Request, urlopen"
      ],
      "execution_count": null,
      "outputs": []
    },
    {
      "cell_type": "code",
      "metadata": {
        "id": "Hj8ijIKJsctr"
      },
      "source": [
        "listofcompany=[]\n",
        "listofdescription=[]\n",
        "listofjobs=[]\n",
        "listofsalary=[]\n",
        "listoflocations=[]\n",
        "listofdates=[]\n",
        "listofjoburls=[]\n",
        "listofsummary=[]"
      ],
      "execution_count": null,
      "outputs": []
    },
    {
      "cell_type": "code",
      "metadata": {
        "id": "xzXgwF8GxLtC"
      },
      "source": [
        "for i in range(150):\n",
        "  url_to_scrape = 'https://www.indeed.co.in/jobs?q=&l=India&filter=0&start='+str(i*10)\n",
        "  headers = {\"User-Agent\":\"Mozilla/5.0\"}\n",
        "  response = requests.get(url_to_scrape, headers=headers)\n",
        "  jobspagesoup = BeautifulSoup(response.text, 'lxml')\n",
        " \n",
        "  jobs = jobspagesoup.find_all(\"div\",class_=\"jobsearch-SerpJobCard\")\n",
        "  for job in jobs:\n",
        "    salary = job.find(\"span\", class_=\"salaryText\")          #Salary\n",
        "    if salary:\n",
        "      salaryamt = salary.text.strip()\n",
        "    else:\n",
        "      salaryamt = 'Not mentioned'\n",
        "    listofsalary.append(salaryamt)\n",
        "\n",
        "    jobtitle = job.find(\"h2\",class_=\"title\")              #Job\n",
        "    jobsname = jobtitle.text.strip()\n",
        "    listofjobs.append(jobsname)\n",
        "\n",
        "    joburlelement = jobtitle.find(\"a\", class_=\"jobtitle turnstileLink \")    #Job Url  \n",
        "    joburl = joburlelement['href']            \n",
        "    listofjoburls.append(joburl)\n",
        "    \n",
        "    summary = job.find(\"div\", class_=\"summary\")\n",
        "    if summary:\n",
        "      summaryname = summary.text.strip()                    #Summary\n",
        "    else:\n",
        "      summaryname = 'Not mentioned'\n",
        "    listofsummary.append(summaryname)\n",
        "\n",
        "    locations = job.find(\"span\", class_=\"location accessible-contrast-color-location\")\n",
        "    if locations:\n",
        "      locationname = locations.text.strip()                   #Location\n",
        "    else:\n",
        "      locationname = 'Not Mentioned'\n",
        "    listoflocations.append(locationname)\n",
        "\n",
        "    companies = job.find(\"span\", class_=\"company\")\n",
        "    companyname = companies.text.strip()                      #Company\n",
        "    listofcompany.append(companyname)\n",
        "\n",
        "\n",
        "    dates = job.find(\"span\", class_=\"date\")\n",
        "    datename= dates.text.strip()                              #Posted On\n",
        "    listofdates.append(datename)\n",
        "\n",
        "    url_to_scrape = 'https://www.indeed.co.in'+str(joburl)\n",
        "    headers = {\"User-Agent\":\"Mozilla/5.0\"}\n",
        "    response = requests.get(url_to_scrape, headers=headers)\n",
        "    descriptionsoup = BeautifulSoup(response.text, 'lxml')\n",
        "    description = descriptionsoup.find(\"div\", class_=\"jobsearch-jobDescriptionText\")\n",
        "    if description:\n",
        "      descriptionname = description.text.strip()              # Description \n",
        "    else:\n",
        "      descriptionname = 'Not Mentioned'\n",
        "    listofdescription.append(descriptionname)\n",
        "#print(listofjobs)\n",
        "#print(listofsalary)\n",
        "#print(listofdescription)\n",
        "#print(listoflocations)\n",
        "#print(listofcompany)\n",
        "#print(listofdates)\n",
        "#print(listofjoburls)\n",
        "#print(listofsummary)"
      ],
      "execution_count": null,
      "outputs": []
    },
    {
      "cell_type": "code",
      "metadata": {
        "id": "nvr3KVxk3PSV",
        "outputId": "863d2f0d-94b3-4d5b-f0d1-3cf6f618ba21",
        "colab": {
          "base_uri": "https://localhost:8080/",
          "height": 34
        }
      },
      "source": [
        "len(listofjobs)\n",
        "len(listofjoburls)\n",
        "len(listofsalary)\n",
        "len(listofdescription)\n",
        "len(listoflocations)\n",
        "len(listofcompany)\n",
        "len(listofdates)\n",
        "len(listofsummary)"
      ],
      "execution_count": null,
      "outputs": [
        {
          "output_type": "execute_result",
          "data": {
            "text/plain": [
              "116155"
            ]
          },
          "metadata": {
            "tags": []
          },
          "execution_count": 15
        }
      ]
    },
    {
      "cell_type": "code",
      "metadata": {
        "id": "tAq1K0jL0m18"
      },
      "source": [
        "find_jobs = pd.DataFrame({'Jobs': listofjobs ,'Company': listofcompany ,'Location': listoflocations ,'Salary': listofsalary, 'Summary': listofsummary ,'Description': listofdescription ,'Posted on': listofdates ,'Job Url': listofjoburls})"
      ],
      "execution_count": null,
      "outputs": []
    },
    {
      "cell_type": "code",
      "metadata": {
        "id": "1zizqvkmBNi7"
      },
      "source": [
        "find_jobs['Job Url'] = 'www.indeed.co.in' + find_jobs['Job Url'].astype(str)"
      ],
      "execution_count": null,
      "outputs": []
    },
    {
      "cell_type": "code",
      "metadata": {
        "id": "1ZZLHq5j4osv",
        "outputId": "66bd50b1-b711-4be0-baa7-b52294620b34",
        "colab": {
          "base_uri": "https://localhost:8080/",
          "height": 255
        }
      },
      "source": [
        "print(find_jobs)"
      ],
      "execution_count": null,
      "outputs": [
        {
          "output_type": "stream",
          "text": [
            "                                         Jobs  ...                                            Job Url\n",
            "0                                CASHIER\\nnew  ...  www.indeed.co.in/rc/clk?jk=1605e928ebe7bd70&fc...\n",
            "1            Cashier & computer operator\\nnew  ...  www.indeed.co.in/rc/clk?jk=ca1ab1ddfb543dfb&fc...\n",
            "2                        IT/ Admin Clerk\\nnew  ...  www.indeed.co.in/rc/clk?jk=1bf25a482f4d1edb&fc...\n",
            "3                             DATA ENTRY\\nnew  ...  www.indeed.co.in/rc/clk?jk=bb68bacf92e74035&fc...\n",
            "4              Typist- Marathi & English\\nnew  ...  www.indeed.co.in/rc/clk?jk=d5d26987f87863bf&fc...\n",
            "...                                       ...  ...                                                ...\n",
            "116150                   Deputy Chairman\\nnew  ...  www.indeed.co.in/rc/clk?jk=23630de7723f542d&fc...\n",
            "116151                    Young Professionals  ...  www.indeed.co.in/rc/clk?jk=bd5c8772d51434dc&fc...\n",
            "116152        Content Writing Internship\\nnew  ...  www.indeed.co.in/rc/clk?jk=346f7f9caf2f9d34&fc...\n",
            "116153  Intern/Trainee/Article Assistant\\nnew  ...  www.indeed.co.in/rc/clk?jk=e35086a1e23834e7&fc...\n",
            "116154      Professional Services Intern\\nnew  ...  www.indeed.co.in/rc/clk?jk=d20907ccee62d822&fc...\n",
            "\n",
            "[116155 rows x 8 columns]\n"
          ],
          "name": "stdout"
        }
      ]
    },
    {
      "cell_type": "code",
      "metadata": {
        "id": "NgM76QSk6NC0",
        "outputId": "12c215b6-ce66-4a2e-929e-1a3b6692ed1b",
        "colab": {
          "base_uri": "https://localhost:8080/",
          "height": 54
        }
      },
      "source": [
        "from google.colab import drive\n",
        "drive.mount('drive')"
      ],
      "execution_count": null,
      "outputs": [
        {
          "output_type": "stream",
          "text": [
            "Drive already mounted at drive; to attempt to forcibly remount, call drive.mount(\"drive\", force_remount=True).\n"
          ],
          "name": "stdout"
        }
      ]
    },
    {
      "cell_type": "code",
      "metadata": {
        "id": "5flCnQNG90iX"
      },
      "source": [
        "find_jobs.to_csv('data1.csv')\n",
        "!cp data.csv \"drive/My Drive/\""
      ],
      "execution_count": null,
      "outputs": []
    }
  ]
}